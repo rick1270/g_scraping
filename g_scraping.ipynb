{
 "cells": [
  {
   "cell_type": "markdown",
   "metadata": {},
   "source": [
    "<h1 style=\"text-align: center;\">Data Software Names and Categories</h1>\n",
    "<h3 style=\"text-align: center;\">Includes a walkthrough and htm to practice on</hh3>"
   ]
  },
  {
   "cell_type": "markdown",
   "metadata": {},
   "source": [
    "While many LLMs produce great results, product names can be a challenge.  Try these."
   ]
  },
  {
   "cell_type": "markdown",
   "metadata": {},
   "source": [
    "### Install the libraries into your environment using magic!"
   ]
  },
  {
   "cell_type": "code",
   "execution_count": 2,
   "metadata": {},
   "outputs": [
    {
     "name": "stdout",
     "output_type": "stream",
     "text": [
      "Requirement already satisfied: pandas in ./.venv/lib/python3.11/site-packages (2.2.0)\n",
      "Requirement already satisfied: numpy<2,>=1.23.2 in ./.venv/lib/python3.11/site-packages (from pandas) (1.26.4)\n",
      "Requirement already satisfied: python-dateutil>=2.8.2 in ./.venv/lib/python3.11/site-packages (from pandas) (2.8.2)\n",
      "Requirement already satisfied: pytz>=2020.1 in ./.venv/lib/python3.11/site-packages (from pandas) (2024.1)\n",
      "Requirement already satisfied: tzdata>=2022.7 in ./.venv/lib/python3.11/site-packages (from pandas) (2024.1)\n",
      "Requirement already satisfied: six>=1.5 in ./.venv/lib/python3.11/site-packages (from python-dateutil>=2.8.2->pandas) (1.16.0)\n",
      "Note: you may need to restart the kernel to use updated packages.\n",
      "Requirement already satisfied: bs4 in ./.venv/lib/python3.11/site-packages (0.0.2)\n",
      "Requirement already satisfied: beautifulsoup4 in ./.venv/lib/python3.11/site-packages (from bs4) (4.12.3)\n",
      "Requirement already satisfied: soupsieve>1.2 in ./.venv/lib/python3.11/site-packages (from beautifulsoup4->bs4) (2.5)\n",
      "Note: you may need to restart the kernel to use updated packages.\n",
      "Requirement already satisfied: regex in ./.venv/lib/python3.11/site-packages (2023.12.25)\n",
      "Note: you may need to restart the kernel to use updated packages.\n"
     ]
    }
   ],
   "source": [
    "# An environment is basically a copy of python that should be created for each project.  Typically in a folder called .venv or .conda\n",
    "# This environment(copy) is where everything should be installed.  Environments are disposable, easy to make, and isolated.  \n",
    "# So no worries when trying pip install really_bad_library_that_breaks_stuff or seeing how your code works with different versions\n",
    "# About magic, depending on the platform, characters like !,%, and %%(multi-line %) allow you to do a ton of things quickly and easily.\n",
    "# Below, the pip command that would normally be entered into a terminal, has the same effect when used with magic in a notebook\n",
    "\n",
    "# Good practice to comment these out once they are installed for a consistent environment and easier execution\n",
    "%pip install pandas\n",
    "%pip install bs4\n",
    "%pip install regex"
   ]
  },
  {
   "cell_type": "markdown",
   "metadata": {},
   "source": [
    "### Import libraries so they can be used"
   ]
  },
  {
   "cell_type": "code",
   "execution_count": null,
   "metadata": {},
   "outputs": [],
   "source": [
    "import pandas as pd\n",
    "from bs4 import BeautifulSoup\n",
    "import re\n",
    "import json\n",
    "# These options adjust the viewing size of the pandas df\n",
    "pd.set_option('display.max_columns', 500)\n",
    "pd.set_option('display.width', 1000)\n"
   ]
  },
  {
   "cell_type": "markdown",
   "metadata": {},
   "source": [
    "#### 400 pages were scraped from g2.com (using a separate python script).  They really do not like sharing so it took awhile."
   ]
  },
  {
   "cell_type": "code",
   "execution_count": 4,
   "metadata": {},
   "outputs": [
    {
     "data": {
      "text/html": [
       "<div>\n",
       "<style scoped>\n",
       "    .dataframe tbody tr th:only-of-type {\n",
       "        vertical-align: middle;\n",
       "    }\n",
       "\n",
       "    .dataframe tbody tr th {\n",
       "        vertical-align: top;\n",
       "    }\n",
       "\n",
       "    .dataframe thead th {\n",
       "        text-align: right;\n",
       "    }\n",
       "</style>\n",
       "<table border=\"1\" class=\"dataframe\">\n",
       "  <thead>\n",
       "    <tr style=\"text-align: right;\">\n",
       "      <th></th>\n",
       "      <th>input</th>\n",
       "      <th>result</th>\n",
       "    </tr>\n",
       "  </thead>\n",
       "  <tbody>\n",
       "    <tr>\n",
       "      <th>0</th>\n",
       "      <td>https://www.g2.com/search?order=popular&amp;amp;pa...</td>\n",
       "      <td>&lt;!doctype html&gt;\\n&lt;html class=\" cors history js...</td>\n",
       "    </tr>\n",
       "    <tr>\n",
       "      <th>1</th>\n",
       "      <td>https://www.g2.com/search?order=popular&amp;amp;pa...</td>\n",
       "      <td>&lt;!doctype html&gt;\\n&lt;html class=\" cors history js...</td>\n",
       "    </tr>\n",
       "    <tr>\n",
       "      <th>2</th>\n",
       "      <td>https://www.g2.com/search?order=popular&amp;amp;pa...</td>\n",
       "      <td>&lt;!doctype html&gt;\\n&lt;html class=\" cors history js...</td>\n",
       "    </tr>\n",
       "    <tr>\n",
       "      <th>3</th>\n",
       "      <td>https://www.g2.com/search?order=popular&amp;amp;pa...</td>\n",
       "      <td>&lt;!doctype html&gt;\\n&lt;html class=\" cors history js...</td>\n",
       "    </tr>\n",
       "    <tr>\n",
       "      <th>4</th>\n",
       "      <td>https://www.g2.com/search?order=popular&amp;amp;pa...</td>\n",
       "      <td>&lt;!doctype html&gt;\\n&lt;html class=\" cors history js...</td>\n",
       "    </tr>\n",
       "  </tbody>\n",
       "</table>\n",
       "</div>"
      ],
      "text/plain": [
       "                                               input                                             result\n",
       "0  https://www.g2.com/search?order=popular&amp;pa...  <!doctype html>\\n<html class=\" cors history js...\n",
       "1  https://www.g2.com/search?order=popular&amp;pa...  <!doctype html>\\n<html class=\" cors history js...\n",
       "2  https://www.g2.com/search?order=popular&amp;pa...  <!doctype html>\\n<html class=\" cors history js...\n",
       "3  https://www.g2.com/search?order=popular&amp;pa...  <!doctype html>\\n<html class=\" cors history js...\n",
       "4  https://www.g2.com/search?order=popular&amp;pa...  <!doctype html>\\n<html class=\" cors history js..."
      ]
     },
     "execution_count": 4,
     "metadata": {},
     "output_type": "execute_result"
    }
   ],
   "source": [
    "## read json lines to pd dfs\n",
    "\n",
    "# obj1 =pd.read_json(path_or_buf=\"g2_html/job-3409143-result.jsonl\", lines=True)\n",
    "# obj2 =pd.read_json(path_or_buf=\"g2_html/job-3409798-result.jsonl\", lines=True)\n",
    "# obj3 =pd.read_json(path_or_buf=\"g2_html/job-3411436-result.jsonl\", lines=True)\n",
    "# obj4 =pd.read_json(path_or_buf=\"g2_html/job-3427118-result.jsonl\", lines=True)\n",
    "# obj5 =pd.read_json(path_or_buf=\"g2_html/job-3462959-result.jsonl\", lines=True)\n",
    "\n",
    "# Original code commented out.  Use below for the included file\n",
    "obj1 =pd.read_json(path_or_buf=\"g2_html.jsonl\", lines=True)\n",
    "\n",
    "# dfG = pd.concat([obj1,obj2,obj3,obj4,obj5], ignore_index= True)\n",
    "#above concat not needed since we are only using one file.  Below line keeps naming correct.\n",
    "\n",
    "dfG = obj1\n",
    "\n",
    "# Scraping the website was a bit challenging (CloudFlare etc) and took several attempts\n",
    "# producing a lot of non-sequintial results.  This function kept track of the html to avoid multiple downloads.\n",
    "def get_page_numbers(dfG):\n",
    "    \"\"\"Extract page numbers that have been scraped using regex\"\"\"\n",
    "    pgNumList= []\n",
    "    for i in range(0, len(dfG)):\n",
    "        rx = re.compile(r'\\b\\d+\\b')\n",
    "        f = rx.findall(dfG[\"input\"][i])\n",
    "        pgNumList.append(int(f[0]))\n",
    "    dfG[\"page_number\"] = pgNumList\n",
    "    dfG.sort_values(\"page_number\", inplace = True, ignore_index= True)\n",
    "    dfG.drop_duplicates(subset= [\"page_number\"], inplace = True, ignore_index=True)\n",
    "    \n",
    "dfG.head()"
   ]
  },
  {
   "cell_type": "markdown",
   "metadata": {},
   "source": [
    "#### Begin building a scraper.  After looking at the html, looks like all of the data I want is in the \\<a> tags"
   ]
  },
  {
   "cell_type": "code",
   "execution_count": 5,
   "metadata": {},
   "outputs": [],
   "source": [
    "## create df w new index that includes all of the json files\n",
    "\n",
    "def a_lister_list(dfG):\n",
    "    \"\"\"Uses Beautiful Soup to extract <a> tags into a list from each page\"\"\"\n",
    "    aList = []\n",
    "    for i in range(0,len(dfG)):\n",
    "        reOne = dfG[\"result\"][i] \n",
    "        aSoup = BeautifulSoup(str(reOne), \"html.parser\")\n",
    "        aHunt = aSoup.find_all(\"a\")\n",
    "        aList.append(aHunt)\n",
    "    return aList\n",
    "\n"
   ]
  },
  {
   "cell_type": "markdown",
   "metadata": {},
   "source": [
    "#### Within the \\<a> tags, the information I want is stored as json. After pulling out the json using regex, I convert json to python dictionaries which makes them easy to work with"
   ]
  },
  {
   "cell_type": "code",
   "execution_count": 8,
   "metadata": {},
   "outputs": [],
   "source": [
    "# Rather than write one long function, make shortter functions that are the combined.\n",
    "# Makes it much easier to read, troubleshoot, and change\n",
    "\n",
    "def json_extract(input_text):\n",
    "    \"extract json from the html of a single a tag aka a_team_solo\"\n",
    "    pattern = re.compile(r\"\\{.*\\}\")\n",
    "    return pattern.findall(repr(input_text))\n",
    "\n",
    "# a_team_solo = a single element from the list of extracted a tag html\n",
    "def a_dicts (a_team_solo):\n",
    "    \"\"\"Uses json_extract to get the json and catch errors.  Then convert to python  \"\"\"\n",
    "    j_list = []\n",
    "    for i in range(0,len(a_team_solo)):\n",
    "        try:\n",
    "            js = json.loads(json_extract(str(a_team_solo[i]))[0]) \n",
    "            j_list.append(js)\n",
    "        except IndexError:\n",
    "            pass\n",
    "        except KeyError:\n",
    "            pass\n",
    "        except json.JSONDecodeError as e:\n",
    "            # I use a lot of print statemnts during development and testing.  \n",
    "            # They output without needing a return statement and are easy to put in / take out\n",
    "            # They help show where a script is failing and/or what is happening\n",
    "            # For more in depth projects, a logging library is a better choice\n",
    "            print(f\"{i} Stupid json.  I hope this isn't a problem: {e}\")\n",
    "    return j_list\n",
    "\n",
    "\n",
    "def cats(a_team_solo):\n",
    "    \"\"\"Uses a_dicts to compile category data into a pandas dataframe \"\"\"\n",
    "    dList = a_dicts(a_team_solo)\n",
    "    catList = []\n",
    "    for i in range(0,len(dList)):\n",
    "        try:\n",
    "            cat = dList[i][\"category\"]\n",
    "            catList.append(cat)\n",
    "        except KeyError:\n",
    "            pass\n",
    "    catDF = pd.DataFrame({\"category\" : catList})\n",
    "    return catDF\n",
    "\n",
    "\n",
    "def sfts(a_team_solo):\n",
    "    \"\"\"Uses a_dicts to compile software and associated category data into a pandas dataframe \"\"\"\n",
    "    dList = a_dicts(a_team_solo)\n",
    "    sftList = []\n",
    "    catList = []\n",
    "    for i in range(0,len(dList)):\n",
    "        try:\n",
    "            sft = dList[i][\"product\"]\n",
    "            cat = dList[i][\"category\"]\n",
    "            catList.append(cat)\n",
    "            sftList.append(sft)\n",
    "        except KeyError:\n",
    "            pass\n",
    "    sftDF = pd.DataFrame({\"software\" : sftList, \"category\" : catList})\n",
    "    return sftDF"
   ]
  },
  {
   "cell_type": "markdown",
   "metadata": {},
   "source": [
    "#### Put it all together and start cooking. We end up with a nice pot of food that looks and tastes delicious."
   ]
  },
  {
   "cell_type": "code",
   "execution_count": 15,
   "metadata": {},
   "outputs": [
    {
     "name": "stdout",
     "output_type": "stream",
     "text": [
      "404 Stupid json.  I hope this isn't a problem: Extra data: line 1 column 189 (char 188)\n",
      "464 Stupid json.  I hope this isn't a problem: Expecting property name enclosed in double quotes: line 1 column 2 (char 1)\n",
      "465 Stupid json.  I hope this isn't a problem: Expecting property name enclosed in double quotes: line 1 column 2 (char 1)\n",
      "466 Stupid json.  I hope this isn't a problem: Expecting property name enclosed in double quotes: line 1 column 2 (char 1)\n",
      "467 Stupid json.  I hope this isn't a problem: Expecting property name enclosed in double quotes: line 1 column 2 (char 1)\n",
      "468 Stupid json.  I hope this isn't a problem: Expecting property name enclosed in double quotes: line 1 column 2 (char 1)\n",
      "469 Stupid json.  I hope this isn't a problem: Expecting property name enclosed in double quotes: line 1 column 2 (char 1)\n",
      "470 Stupid json.  I hope this isn't a problem: Expecting property name enclosed in double quotes: line 1 column 2 (char 1)\n",
      "471 Stupid json.  I hope this isn't a problem: Expecting property name enclosed in double quotes: line 1 column 2 (char 1)\n",
      "477 Stupid json.  I hope this isn't a problem: Expecting property name enclosed in double quotes: line 1 column 2 (char 1)\n",
      "478 Stupid json.  I hope this isn't a problem: Expecting property name enclosed in double quotes: line 1 column 2 (char 1)\n",
      "479 Stupid json.  I hope this isn't a problem: Expecting property name enclosed in double quotes: line 1 column 2 (char 1)\n",
      "480 Stupid json.  I hope this isn't a problem: Expecting property name enclosed in double quotes: line 1 column 2 (char 1)\n",
      "481 Stupid json.  I hope this isn't a problem: Expecting property name enclosed in double quotes: line 1 column 2 (char 1)\n",
      "482 Stupid json.  I hope this isn't a problem: Expecting property name enclosed in double quotes: line 1 column 2 (char 1)\n",
      "396 Stupid json.  I hope this isn't a problem: Expecting property name enclosed in double quotes: line 1 column 2 (char 1)\n",
      "397 Stupid json.  I hope this isn't a problem: Expecting property name enclosed in double quotes: line 1 column 2 (char 1)\n",
      "398 Stupid json.  I hope this isn't a problem: Expecting property name enclosed in double quotes: line 1 column 2 (char 1)\n",
      "399 Stupid json.  I hope this isn't a problem: Expecting property name enclosed in double quotes: line 1 column 2 (char 1)\n",
      "400 Stupid json.  I hope this isn't a problem: Expecting property name enclosed in double quotes: line 1 column 2 (char 1)\n",
      "401 Stupid json.  I hope this isn't a problem: Expecting property name enclosed in double quotes: line 1 column 2 (char 1)\n",
      "402 Stupid json.  I hope this isn't a problem: Expecting property name enclosed in double quotes: line 1 column 2 (char 1)\n",
      "436 Stupid json.  I hope this isn't a problem: Expecting property name enclosed in double quotes: line 1 column 2 (char 1)\n",
      "437 Stupid json.  I hope this isn't a problem: Expecting property name enclosed in double quotes: line 1 column 2 (char 1)\n",
      "438 Stupid json.  I hope this isn't a problem: Expecting property name enclosed in double quotes: line 1 column 2 (char 1)\n",
      "439 Stupid json.  I hope this isn't a problem: Expecting property name enclosed in double quotes: line 1 column 2 (char 1)\n",
      "440 Stupid json.  I hope this isn't a problem: Expecting property name enclosed in double quotes: line 1 column 2 (char 1)\n",
      "441 Stupid json.  I hope this isn't a problem: Expecting property name enclosed in double quotes: line 1 column 2 (char 1)\n",
      "412 Stupid json.  I hope this isn't a problem: Expecting property name enclosed in double quotes: line 1 column 2 (char 1)\n",
      "404 Stupid json.  I hope this isn't a problem: Extra data: line 1 column 189 (char 188)\n",
      "464 Stupid json.  I hope this isn't a problem: Expecting property name enclosed in double quotes: line 1 column 2 (char 1)\n",
      "465 Stupid json.  I hope this isn't a problem: Expecting property name enclosed in double quotes: line 1 column 2 (char 1)\n",
      "466 Stupid json.  I hope this isn't a problem: Expecting property name enclosed in double quotes: line 1 column 2 (char 1)\n",
      "467 Stupid json.  I hope this isn't a problem: Expecting property name enclosed in double quotes: line 1 column 2 (char 1)\n",
      "468 Stupid json.  I hope this isn't a problem: Expecting property name enclosed in double quotes: line 1 column 2 (char 1)\n",
      "469 Stupid json.  I hope this isn't a problem: Expecting property name enclosed in double quotes: line 1 column 2 (char 1)\n",
      "470 Stupid json.  I hope this isn't a problem: Expecting property name enclosed in double quotes: line 1 column 2 (char 1)\n",
      "471 Stupid json.  I hope this isn't a problem: Expecting property name enclosed in double quotes: line 1 column 2 (char 1)\n",
      "477 Stupid json.  I hope this isn't a problem: Expecting property name enclosed in double quotes: line 1 column 2 (char 1)\n",
      "478 Stupid json.  I hope this isn't a problem: Expecting property name enclosed in double quotes: line 1 column 2 (char 1)\n",
      "479 Stupid json.  I hope this isn't a problem: Expecting property name enclosed in double quotes: line 1 column 2 (char 1)\n",
      "480 Stupid json.  I hope this isn't a problem: Expecting property name enclosed in double quotes: line 1 column 2 (char 1)\n",
      "481 Stupid json.  I hope this isn't a problem: Expecting property name enclosed in double quotes: line 1 column 2 (char 1)\n",
      "482 Stupid json.  I hope this isn't a problem: Expecting property name enclosed in double quotes: line 1 column 2 (char 1)\n",
      "396 Stupid json.  I hope this isn't a problem: Expecting property name enclosed in double quotes: line 1 column 2 (char 1)\n",
      "397 Stupid json.  I hope this isn't a problem: Expecting property name enclosed in double quotes: line 1 column 2 (char 1)\n",
      "398 Stupid json.  I hope this isn't a problem: Expecting property name enclosed in double quotes: line 1 column 2 (char 1)\n",
      "399 Stupid json.  I hope this isn't a problem: Expecting property name enclosed in double quotes: line 1 column 2 (char 1)\n",
      "400 Stupid json.  I hope this isn't a problem: Expecting property name enclosed in double quotes: line 1 column 2 (char 1)\n",
      "401 Stupid json.  I hope this isn't a problem: Expecting property name enclosed in double quotes: line 1 column 2 (char 1)\n",
      "402 Stupid json.  I hope this isn't a problem: Expecting property name enclosed in double quotes: line 1 column 2 (char 1)\n",
      "436 Stupid json.  I hope this isn't a problem: Expecting property name enclosed in double quotes: line 1 column 2 (char 1)\n",
      "437 Stupid json.  I hope this isn't a problem: Expecting property name enclosed in double quotes: line 1 column 2 (char 1)\n",
      "438 Stupid json.  I hope this isn't a problem: Expecting property name enclosed in double quotes: line 1 column 2 (char 1)\n",
      "439 Stupid json.  I hope this isn't a problem: Expecting property name enclosed in double quotes: line 1 column 2 (char 1)\n",
      "440 Stupid json.  I hope this isn't a problem: Expecting property name enclosed in double quotes: line 1 column 2 (char 1)\n",
      "441 Stupid json.  I hope this isn't a problem: Expecting property name enclosed in double quotes: line 1 column 2 (char 1)\n",
      "412 Stupid json.  I hope this isn't a problem: Expecting property name enclosed in double quotes: line 1 column 2 (char 1)\n",
      "404 Stupid json.  I hope this isn't a problem: Extra data: line 1 column 189 (char 188)\n",
      "464 Stupid json.  I hope this isn't a problem: Expecting property name enclosed in double quotes: line 1 column 2 (char 1)\n",
      "465 Stupid json.  I hope this isn't a problem: Expecting property name enclosed in double quotes: line 1 column 2 (char 1)\n",
      "466 Stupid json.  I hope this isn't a problem: Expecting property name enclosed in double quotes: line 1 column 2 (char 1)\n",
      "467 Stupid json.  I hope this isn't a problem: Expecting property name enclosed in double quotes: line 1 column 2 (char 1)\n",
      "468 Stupid json.  I hope this isn't a problem: Expecting property name enclosed in double quotes: line 1 column 2 (char 1)\n",
      "469 Stupid json.  I hope this isn't a problem: Expecting property name enclosed in double quotes: line 1 column 2 (char 1)\n",
      "470 Stupid json.  I hope this isn't a problem: Expecting property name enclosed in double quotes: line 1 column 2 (char 1)\n",
      "471 Stupid json.  I hope this isn't a problem: Expecting property name enclosed in double quotes: line 1 column 2 (char 1)\n",
      "477 Stupid json.  I hope this isn't a problem: Expecting property name enclosed in double quotes: line 1 column 2 (char 1)\n",
      "478 Stupid json.  I hope this isn't a problem: Expecting property name enclosed in double quotes: line 1 column 2 (char 1)\n",
      "479 Stupid json.  I hope this isn't a problem: Expecting property name enclosed in double quotes: line 1 column 2 (char 1)\n",
      "480 Stupid json.  I hope this isn't a problem: Expecting property name enclosed in double quotes: line 1 column 2 (char 1)\n",
      "481 Stupid json.  I hope this isn't a problem: Expecting property name enclosed in double quotes: line 1 column 2 (char 1)\n",
      "482 Stupid json.  I hope this isn't a problem: Expecting property name enclosed in double quotes: line 1 column 2 (char 1)\n",
      "396 Stupid json.  I hope this isn't a problem: Expecting property name enclosed in double quotes: line 1 column 2 (char 1)\n",
      "397 Stupid json.  I hope this isn't a problem: Expecting property name enclosed in double quotes: line 1 column 2 (char 1)\n",
      "398 Stupid json.  I hope this isn't a problem: Expecting property name enclosed in double quotes: line 1 column 2 (char 1)\n",
      "399 Stupid json.  I hope this isn't a problem: Expecting property name enclosed in double quotes: line 1 column 2 (char 1)\n",
      "400 Stupid json.  I hope this isn't a problem: Expecting property name enclosed in double quotes: line 1 column 2 (char 1)\n",
      "401 Stupid json.  I hope this isn't a problem: Expecting property name enclosed in double quotes: line 1 column 2 (char 1)\n",
      "402 Stupid json.  I hope this isn't a problem: Expecting property name enclosed in double quotes: line 1 column 2 (char 1)\n",
      "436 Stupid json.  I hope this isn't a problem: Expecting property name enclosed in double quotes: line 1 column 2 (char 1)\n",
      "437 Stupid json.  I hope this isn't a problem: Expecting property name enclosed in double quotes: line 1 column 2 (char 1)\n",
      "438 Stupid json.  I hope this isn't a problem: Expecting property name enclosed in double quotes: line 1 column 2 (char 1)\n",
      "439 Stupid json.  I hope this isn't a problem: Expecting property name enclosed in double quotes: line 1 column 2 (char 1)\n",
      "440 Stupid json.  I hope this isn't a problem: Expecting property name enclosed in double quotes: line 1 column 2 (char 1)\n",
      "441 Stupid json.  I hope this isn't a problem: Expecting property name enclosed in double quotes: line 1 column 2 (char 1)\n",
      "412 Stupid json.  I hope this isn't a problem: Expecting property name enclosed in double quotes: line 1 column 2 (char 1)\n"
     ]
    }
   ],
   "source": [
    "aTeam = a_lister_list(dfG)\n",
    "\n",
    "def getCategoriesDF(aTeam):\n",
    "    for i in range(0, len(aTeam)):\n",
    "        aSolo = aTeam[i]\n",
    "        catList = cats(aSolo)\n",
    "    return catList\n",
    "\n",
    "getCategoriesDF(aTeam)       \n",
    "def getSoftwareDF(aTeam):\n",
    "    for i in range(0, len(aTeam)):\n",
    "        aSolo = aTeam[i]\n",
    "        sftList = sfts(aSolo)\n",
    "    return sftList\n",
    "\n",
    "df_s = getSoftwareDF(aTeam)\n",
    "df_c = getCategoriesDF(aTeam)\n",
    "\n",
    "# A few errors indicated below to check on.  Spoiler Alert!  Around 80 errors is low \n",
    "# and they do not involve data we want\n",
    "    "
   ]
  },
  {
   "cell_type": "markdown",
   "metadata": {},
   "source": [
    "#### Remove duplicates and check everything over"
   ]
  },
  {
   "cell_type": "code",
   "execution_count": 16,
   "metadata": {},
   "outputs": [
    {
     "name": "stdout",
     "output_type": "stream",
     "text": [
      "            category\n",
      "count            336\n",
      "unique           336\n",
      "top     CRM Software\n",
      "freq               1\n",
      "        software                                category\n",
      "count         51                                      51\n",
      "unique        20                                      51\n",
      "top     Datavail  Police Records Management System (RMS)\n",
      "freq          22                                       1\n"
     ]
    }
   ],
   "source": [
    "def df_check (df):\n",
    "    \"\"\"Clean up duplicates, make sure everythin is in order, see what we have\"\"\"\n",
    "    df = df.drop_duplicates(ignore_index=True)\n",
    "    df = df.reindex()\n",
    "    print(df.describe())\n",
    "    return df\n",
    "\n",
    "dfC = df_check(df_c)\n",
    "\n",
    "dfS = df_check(df_s)\n"
   ]
  },
  {
   "cell_type": "markdown",
   "metadata": {},
   "source": [
    "#### Format df so that the Software DF shows a list of apllicable categories for each row"
   ]
  },
  {
   "cell_type": "code",
   "execution_count": 18,
   "metadata": {},
   "outputs": [
    {
     "data": {
      "text/plain": [
       "285"
      ]
     },
     "execution_count": 18,
     "metadata": {},
     "output_type": "execute_result"
    }
   ],
   "source": [
    "dfSGrouped = dfS.groupby('software')['category'].apply(list).reset_index(name='categories')\n",
    "# check to see if there are unused catagories.  There are, will keep catagories as a separate file.\n",
    "len(set(dfC['category']) - set(dfS['category']))"
   ]
  },
  {
   "cell_type": "markdown",
   "metadata": {},
   "source": [
    "#### Save as csv and share with others"
   ]
  },
  {
   "cell_type": "code",
   "execution_count": null,
   "metadata": {},
   "outputs": [],
   "source": [
    "sftWords = dfSGrouped.to_csv(\"software_names.csv\")\n",
    "catWords = dfC.to_csv(\"software_categories.csv\")\n",
    "\n",
    "# The g2_html shared here is great for practice but only yields a small sub-set\n",
    "# categoryWords.csv and softwareWords.csv include the result from the all html\n",
    " "
   ]
  },
  {
   "cell_type": "markdown",
   "metadata": {},
   "source": [
    "#### One more thing!"
   ]
  },
  {
   "cell_type": "code",
   "execution_count": 20,
   "metadata": {},
   "outputs": [
    {
     "name": "stdout",
     "output_type": "stream",
     "text": [
      "appnope==0.1.4\n",
      "asttokens==2.4.1\n",
      "beautifulsoup4==4.12.3\n",
      "bs4==0.0.2\n",
      "comm==0.2.1\n",
      "debugpy==1.8.1\n",
      "decorator==5.1.1\n",
      "executing==2.0.1\n",
      "ipykernel==6.29.2\n",
      "ipython==8.21.0\n",
      "jedi==0.19.1\n",
      "jupyter_client==8.6.0\n",
      "jupyter_core==5.7.1\n",
      "matplotlib-inline==0.1.6\n",
      "nest-asyncio==1.6.0\n",
      "numpy==1.26.4\n",
      "packaging==23.2\n",
      "pandas==2.2.0\n",
      "parso==0.8.3\n",
      "pexpect==4.9.0\n",
      "platformdirs==4.2.0\n",
      "prompt-toolkit==3.0.43\n",
      "psutil==5.9.8\n",
      "ptyprocess==0.7.0\n",
      "pure-eval==0.2.2\n",
      "Pygments==2.17.2\n",
      "python-dateutil==2.8.2\n",
      "pytz==2024.1\n",
      "pyzmq==25.1.2\n",
      "regex==2023.12.25\n",
      "six==1.16.0\n",
      "soupsieve==2.5\n",
      "stack-data==0.6.3\n",
      "tornado==6.4\n",
      "traitlets==5.14.1\n",
      "tzdata==2024.1\n",
      "wcwidth==0.2.13\n",
      "Note: you may need to restart the kernel to use updated packages.\n"
     ]
    }
   ],
   "source": [
    "# A bit of magic for a list of all the libraries used.  This would normally go in a requirements.txt \n",
    "# file and represent the versions used and tested.  Although we only imported 3 packages, each of those imports\n",
    "and uses packages giving us the list below\n",
    "%pip freeze"
   ]
  }
 ],
 "metadata": {
  "kernelspec": {
   "display_name": "Python 3",
   "language": "python",
   "name": "python3"
  },
  "language_info": {
   "codemirror_mode": {
    "name": "ipython",
    "version": 3
   },
   "file_extension": ".py",
   "mimetype": "text/x-python",
   "name": "python",
   "nbconvert_exporter": "python",
   "pygments_lexer": "ipython3",
   "version": "3.11.6"
  }
 },
 "nbformat": 4,
 "nbformat_minor": 2
}
